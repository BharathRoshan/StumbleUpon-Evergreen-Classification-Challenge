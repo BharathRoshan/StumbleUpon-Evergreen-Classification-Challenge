{
 "cells": [
  {
   "cell_type": "markdown",
   "metadata": {},
   "source": [
    "# Problem\n",
    "### Classifying the pages as \"Ephemeral\" or \"Evergreen\".\n",
    "#### The Dependent variable is Label Column\n",
    "#### Classification using Logistic Regression"
   ]
  },
  {
   "cell_type": "markdown",
   "metadata": {},
   "source": [
    "# Approach\n",
    "\n",
    "In the Dataset, the important columns are urlid, boilerplate, label. In the Column Boilerplate each row is in JSON Format and consists of the Title of the page and the Body of the page, So as it is an important Column to classify the pages. So I converted that Column into a DataFrame. The DataFrame consists of 4 Columns namely, URLId, Title, Body and Label from the Train Data. The Column urlid refers to the id of the URl of each row so i used it in the dataframe, so that each title and body could be mapped to that paticular url referred by the ID.\n",
    "\n",
    "As we know that Label is a Dependent variable i assigned it to a variable 'y'. Then i used word tokenizer to split the sentence into words for both train data and test data. I then reduced those words after tokenizing into their stem words using PorterStemmer. As i got the stemmed words i converted those text into Feature Vectors using TfidfVectorizer. I converted those Feature Vectors into Sparse Matrix and called Logistic Regression to classify the Page as \"Ephemeral\" or \"Evergreen\"."
   ]
  },
  {
   "cell_type": "markdown",
   "metadata": {},
   "source": [
    "# Import Packages"
   ]
  },
  {
   "cell_type": "code",
   "execution_count": 153,
   "metadata": {
    "id": "DPSPF9H6OoA0"
   },
   "outputs": [],
   "source": [
    "import numpy as np\n",
    "import pandas as pd\n",
    "import seaborn as sns\n",
    "import matplotlib.pyplot as plt\n",
    "import json\n",
    "import re\n",
    "import nltk\n",
    "from nltk.corpus import stopwords\n",
    "from nltk.stem.porter import PorterStemmer\n",
    "from sklearn.linear_model import LogisticRegression\n",
    "from sklearn.metrics import log_loss,confusion_matrix,classification_report,roc_curve,auc"
   ]
  },
  {
   "cell_type": "markdown",
   "metadata": {},
   "source": [
    "# Reading and Displaying the Dataset"
   ]
  },
  {
   "cell_type": "code",
   "execution_count": 154,
   "metadata": {
    "id": "AwyQy5GsOoA3"
   },
   "outputs": [],
   "source": [
    "train_data=pd.read_csv('train.tsv',delimiter='\\t')\n",
    "test_data=pd.read_csv('test.tsv',delimiter='\\t')"
   ]
  },
  {
   "cell_type": "code",
   "execution_count": 155,
   "metadata": {
    "colab": {
     "base_uri": "https://localhost:8080/",
     "height": 267
    },
    "id": "b65eVXIHOoA4",
    "outputId": "e0b9f610-775c-4d62-ad20-4fc456e777ca"
   },
   "outputs": [
    {
     "data": {
      "text/html": [
       "<div>\n",
       "<style scoped>\n",
       "    .dataframe tbody tr th:only-of-type {\n",
       "        vertical-align: middle;\n",
       "    }\n",
       "\n",
       "    .dataframe tbody tr th {\n",
       "        vertical-align: top;\n",
       "    }\n",
       "\n",
       "    .dataframe thead th {\n",
       "        text-align: right;\n",
       "    }\n",
       "</style>\n",
       "<table border=\"1\" class=\"dataframe\">\n",
       "  <thead>\n",
       "    <tr style=\"text-align: right;\">\n",
       "      <th></th>\n",
       "      <th>url</th>\n",
       "      <th>urlid</th>\n",
       "      <th>boilerplate</th>\n",
       "      <th>alchemy_category</th>\n",
       "      <th>alchemy_category_score</th>\n",
       "      <th>avglinksize</th>\n",
       "      <th>commonlinkratio_1</th>\n",
       "      <th>commonlinkratio_2</th>\n",
       "      <th>commonlinkratio_3</th>\n",
       "      <th>commonlinkratio_4</th>\n",
       "      <th>...</th>\n",
       "      <th>is_news</th>\n",
       "      <th>lengthyLinkDomain</th>\n",
       "      <th>linkwordscore</th>\n",
       "      <th>news_front_page</th>\n",
       "      <th>non_markup_alphanum_characters</th>\n",
       "      <th>numberOfLinks</th>\n",
       "      <th>numwords_in_url</th>\n",
       "      <th>parametrizedLinkRatio</th>\n",
       "      <th>spelling_errors_ratio</th>\n",
       "      <th>label</th>\n",
       "    </tr>\n",
       "  </thead>\n",
       "  <tbody>\n",
       "    <tr>\n",
       "      <th>0</th>\n",
       "      <td>http://www.bloomberg.com/news/2010-12-23/ibm-p...</td>\n",
       "      <td>4042</td>\n",
       "      <td>{\"title\":\"IBM Sees Holographic Calls Air Breat...</td>\n",
       "      <td>business</td>\n",
       "      <td>0.789131</td>\n",
       "      <td>2.055556</td>\n",
       "      <td>0.676471</td>\n",
       "      <td>0.205882</td>\n",
       "      <td>0.047059</td>\n",
       "      <td>0.023529</td>\n",
       "      <td>...</td>\n",
       "      <td>1</td>\n",
       "      <td>1</td>\n",
       "      <td>24</td>\n",
       "      <td>0</td>\n",
       "      <td>5424</td>\n",
       "      <td>170</td>\n",
       "      <td>8</td>\n",
       "      <td>0.152941</td>\n",
       "      <td>0.079130</td>\n",
       "      <td>0</td>\n",
       "    </tr>\n",
       "    <tr>\n",
       "      <th>1</th>\n",
       "      <td>http://www.popsci.com/technology/article/2012-...</td>\n",
       "      <td>8471</td>\n",
       "      <td>{\"title\":\"The Fully Electronic Futuristic Star...</td>\n",
       "      <td>recreation</td>\n",
       "      <td>0.574147</td>\n",
       "      <td>3.677966</td>\n",
       "      <td>0.508021</td>\n",
       "      <td>0.288770</td>\n",
       "      <td>0.213904</td>\n",
       "      <td>0.144385</td>\n",
       "      <td>...</td>\n",
       "      <td>1</td>\n",
       "      <td>1</td>\n",
       "      <td>40</td>\n",
       "      <td>0</td>\n",
       "      <td>4973</td>\n",
       "      <td>187</td>\n",
       "      <td>9</td>\n",
       "      <td>0.181818</td>\n",
       "      <td>0.125448</td>\n",
       "      <td>1</td>\n",
       "    </tr>\n",
       "  </tbody>\n",
       "</table>\n",
       "<p>2 rows × 27 columns</p>\n",
       "</div>"
      ],
      "text/plain": [
       "                                                 url  urlid  \\\n",
       "0  http://www.bloomberg.com/news/2010-12-23/ibm-p...   4042   \n",
       "1  http://www.popsci.com/technology/article/2012-...   8471   \n",
       "\n",
       "                                         boilerplate alchemy_category  \\\n",
       "0  {\"title\":\"IBM Sees Holographic Calls Air Breat...         business   \n",
       "1  {\"title\":\"The Fully Electronic Futuristic Star...       recreation   \n",
       "\n",
       "  alchemy_category_score  avglinksize  commonlinkratio_1  commonlinkratio_2  \\\n",
       "0               0.789131     2.055556           0.676471           0.205882   \n",
       "1               0.574147     3.677966           0.508021           0.288770   \n",
       "\n",
       "   commonlinkratio_3  commonlinkratio_4  ...  is_news  lengthyLinkDomain  \\\n",
       "0           0.047059           0.023529  ...        1                  1   \n",
       "1           0.213904           0.144385  ...        1                  1   \n",
       "\n",
       "   linkwordscore  news_front_page  non_markup_alphanum_characters  \\\n",
       "0             24                0                            5424   \n",
       "1             40                0                            4973   \n",
       "\n",
       "   numberOfLinks  numwords_in_url parametrizedLinkRatio  \\\n",
       "0            170                8              0.152941   \n",
       "1            187                9              0.181818   \n",
       "\n",
       "   spelling_errors_ratio  label  \n",
       "0               0.079130      0  \n",
       "1               0.125448      1  \n",
       "\n",
       "[2 rows x 27 columns]"
      ]
     },
     "execution_count": 155,
     "metadata": {},
     "output_type": "execute_result"
    }
   ],
   "source": [
    "train_data.head(2)"
   ]
  },
  {
   "cell_type": "code",
   "execution_count": 156,
   "metadata": {
    "colab": {
     "base_uri": "https://localhost:8080/",
     "height": 199
    },
    "id": "uVynv8GCOoA5",
    "outputId": "90eeee60-fb8c-4463-d8a1-95e9fe15c2f2"
   },
   "outputs": [
    {
     "data": {
      "text/html": [
       "<div>\n",
       "<style scoped>\n",
       "    .dataframe tbody tr th:only-of-type {\n",
       "        vertical-align: middle;\n",
       "    }\n",
       "\n",
       "    .dataframe tbody tr th {\n",
       "        vertical-align: top;\n",
       "    }\n",
       "\n",
       "    .dataframe thead th {\n",
       "        text-align: right;\n",
       "    }\n",
       "</style>\n",
       "<table border=\"1\" class=\"dataframe\">\n",
       "  <thead>\n",
       "    <tr style=\"text-align: right;\">\n",
       "      <th></th>\n",
       "      <th>url</th>\n",
       "      <th>urlid</th>\n",
       "      <th>boilerplate</th>\n",
       "      <th>alchemy_category</th>\n",
       "      <th>alchemy_category_score</th>\n",
       "      <th>avglinksize</th>\n",
       "      <th>commonlinkratio_1</th>\n",
       "      <th>commonlinkratio_2</th>\n",
       "      <th>commonlinkratio_3</th>\n",
       "      <th>commonlinkratio_4</th>\n",
       "      <th>...</th>\n",
       "      <th>image_ratio</th>\n",
       "      <th>is_news</th>\n",
       "      <th>lengthyLinkDomain</th>\n",
       "      <th>linkwordscore</th>\n",
       "      <th>news_front_page</th>\n",
       "      <th>non_markup_alphanum_characters</th>\n",
       "      <th>numberOfLinks</th>\n",
       "      <th>numwords_in_url</th>\n",
       "      <th>parametrizedLinkRatio</th>\n",
       "      <th>spelling_errors_ratio</th>\n",
       "    </tr>\n",
       "  </thead>\n",
       "  <tbody>\n",
       "    <tr>\n",
       "      <th>0</th>\n",
       "      <td>http://www.lynnskitchenadventures.com/2009/04/...</td>\n",
       "      <td>5865</td>\n",
       "      <td>{\"title\":\"Homemade Enchilada Sauce Lynn s Kitc...</td>\n",
       "      <td>recreation</td>\n",
       "      <td>0.443906</td>\n",
       "      <td>2.558140</td>\n",
       "      <td>0.389706</td>\n",
       "      <td>0.257353</td>\n",
       "      <td>0.044118</td>\n",
       "      <td>0.022059</td>\n",
       "      <td>...</td>\n",
       "      <td>0.199438</td>\n",
       "      <td>1</td>\n",
       "      <td>1</td>\n",
       "      <td>15</td>\n",
       "      <td>0</td>\n",
       "      <td>5643</td>\n",
       "      <td>136</td>\n",
       "      <td>3</td>\n",
       "      <td>0.242647</td>\n",
       "      <td>0.080597</td>\n",
       "    </tr>\n",
       "    <tr>\n",
       "      <th>1</th>\n",
       "      <td>http://lolpics.se/18552-stun-grenade-ar</td>\n",
       "      <td>782</td>\n",
       "      <td>{\"title\":\"lolpics Stun grenade ar \",\"body\":\" f...</td>\n",
       "      <td>culture_politics</td>\n",
       "      <td>0.135844</td>\n",
       "      <td>3.771429</td>\n",
       "      <td>0.461538</td>\n",
       "      <td>0.205128</td>\n",
       "      <td>0.051282</td>\n",
       "      <td>0.000000</td>\n",
       "      <td>...</td>\n",
       "      <td>0.080000</td>\n",
       "      <td>?</td>\n",
       "      <td>1</td>\n",
       "      <td>62</td>\n",
       "      <td>0</td>\n",
       "      <td>382</td>\n",
       "      <td>39</td>\n",
       "      <td>2</td>\n",
       "      <td>0.128205</td>\n",
       "      <td>0.176471</td>\n",
       "    </tr>\n",
       "  </tbody>\n",
       "</table>\n",
       "<p>2 rows × 26 columns</p>\n",
       "</div>"
      ],
      "text/plain": [
       "                                                 url  urlid  \\\n",
       "0  http://www.lynnskitchenadventures.com/2009/04/...   5865   \n",
       "1            http://lolpics.se/18552-stun-grenade-ar    782   \n",
       "\n",
       "                                         boilerplate  alchemy_category  \\\n",
       "0  {\"title\":\"Homemade Enchilada Sauce Lynn s Kitc...        recreation   \n",
       "1  {\"title\":\"lolpics Stun grenade ar \",\"body\":\" f...  culture_politics   \n",
       "\n",
       "  alchemy_category_score  avglinksize  commonlinkratio_1  commonlinkratio_2  \\\n",
       "0               0.443906     2.558140           0.389706           0.257353   \n",
       "1               0.135844     3.771429           0.461538           0.205128   \n",
       "\n",
       "   commonlinkratio_3  commonlinkratio_4  ...  image_ratio  is_news  \\\n",
       "0           0.044118           0.022059  ...     0.199438        1   \n",
       "1           0.051282           0.000000  ...     0.080000        ?   \n",
       "\n",
       "   lengthyLinkDomain  linkwordscore  news_front_page  \\\n",
       "0                  1             15                0   \n",
       "1                  1             62                0   \n",
       "\n",
       "   non_markup_alphanum_characters  numberOfLinks numwords_in_url  \\\n",
       "0                            5643            136               3   \n",
       "1                             382             39               2   \n",
       "\n",
       "   parametrizedLinkRatio  spelling_errors_ratio  \n",
       "0               0.242647               0.080597  \n",
       "1               0.128205               0.176471  \n",
       "\n",
       "[2 rows x 26 columns]"
      ]
     },
     "execution_count": 156,
     "metadata": {},
     "output_type": "execute_result"
    }
   ],
   "source": [
    "test_data.head(2)"
   ]
  },
  {
   "cell_type": "markdown",
   "metadata": {},
   "source": [
    "# Data Munging or Data Preparation"
   ]
  },
  {
   "cell_type": "code",
   "execution_count": 157,
   "metadata": {
    "colab": {
     "base_uri": "https://localhost:8080/"
    },
    "id": "stiuQZw8OoA5",
    "outputId": "c4bf6616-5dca-438f-b863-6b28f2f0b566"
   },
   "outputs": [
    {
     "name": "stdout",
     "output_type": "stream",
     "text": [
      "<class 'pandas.core.frame.DataFrame'>\n",
      "RangeIndex: 7395 entries, 0 to 7394\n",
      "Data columns (total 27 columns):\n",
      " #   Column                          Non-Null Count  Dtype  \n",
      "---  ------                          --------------  -----  \n",
      " 0   url                             7395 non-null   object \n",
      " 1   urlid                           7395 non-null   int64  \n",
      " 2   boilerplate                     7395 non-null   object \n",
      " 3   alchemy_category                7395 non-null   object \n",
      " 4   alchemy_category_score          7395 non-null   object \n",
      " 5   avglinksize                     7395 non-null   float64\n",
      " 6   commonlinkratio_1               7395 non-null   float64\n",
      " 7   commonlinkratio_2               7395 non-null   float64\n",
      " 8   commonlinkratio_3               7395 non-null   float64\n",
      " 9   commonlinkratio_4               7395 non-null   float64\n",
      " 10  compression_ratio               7395 non-null   float64\n",
      " 11  embed_ratio                     7395 non-null   float64\n",
      " 12  framebased                      7395 non-null   int64  \n",
      " 13  frameTagRatio                   7395 non-null   float64\n",
      " 14  hasDomainLink                   7395 non-null   int64  \n",
      " 15  html_ratio                      7395 non-null   float64\n",
      " 16  image_ratio                     7395 non-null   float64\n",
      " 17  is_news                         7395 non-null   object \n",
      " 18  lengthyLinkDomain               7395 non-null   int64  \n",
      " 19  linkwordscore                   7395 non-null   int64  \n",
      " 20  news_front_page                 7395 non-null   object \n",
      " 21  non_markup_alphanum_characters  7395 non-null   int64  \n",
      " 22  numberOfLinks                   7395 non-null   int64  \n",
      " 23  numwords_in_url                 7395 non-null   int64  \n",
      " 24  parametrizedLinkRatio           7395 non-null   float64\n",
      " 25  spelling_errors_ratio           7395 non-null   float64\n",
      " 26  label                           7395 non-null   int64  \n",
      "dtypes: float64(12), int64(9), object(6)\n",
      "memory usage: 1.5+ MB\n"
     ]
    }
   ],
   "source": [
    "train_data.info()"
   ]
  },
  {
   "cell_type": "code",
   "execution_count": 158,
   "metadata": {
    "colab": {
     "base_uri": "https://localhost:8080/"
    },
    "id": "kNB6gR8dOoA6",
    "outputId": "2e634e34-e7e1-4932-e2d7-cdb1840327a4"
   },
   "outputs": [
    {
     "name": "stdout",
     "output_type": "stream",
     "text": [
      "<class 'pandas.core.frame.DataFrame'>\n",
      "RangeIndex: 3171 entries, 0 to 3170\n",
      "Data columns (total 26 columns):\n",
      " #   Column                          Non-Null Count  Dtype  \n",
      "---  ------                          --------------  -----  \n",
      " 0   url                             3171 non-null   object \n",
      " 1   urlid                           3171 non-null   int64  \n",
      " 2   boilerplate                     3171 non-null   object \n",
      " 3   alchemy_category                3171 non-null   object \n",
      " 4   alchemy_category_score          3171 non-null   object \n",
      " 5   avglinksize                     3171 non-null   float64\n",
      " 6   commonlinkratio_1               3171 non-null   float64\n",
      " 7   commonlinkratio_2               3171 non-null   float64\n",
      " 8   commonlinkratio_3               3171 non-null   float64\n",
      " 9   commonlinkratio_4               3171 non-null   float64\n",
      " 10  compression_ratio               3171 non-null   float64\n",
      " 11  embed_ratio                     3171 non-null   float64\n",
      " 12  framebased                      3171 non-null   int64  \n",
      " 13  frameTagRatio                   3171 non-null   float64\n",
      " 14  hasDomainLink                   3171 non-null   int64  \n",
      " 15  html_ratio                      3171 non-null   float64\n",
      " 16  image_ratio                     3171 non-null   float64\n",
      " 17  is_news                         3171 non-null   object \n",
      " 18  lengthyLinkDomain               3171 non-null   int64  \n",
      " 19  linkwordscore                   3171 non-null   int64  \n",
      " 20  news_front_page                 3171 non-null   object \n",
      " 21  non_markup_alphanum_characters  3171 non-null   int64  \n",
      " 22  numberOfLinks                   3171 non-null   int64  \n",
      " 23  numwords_in_url                 3171 non-null   int64  \n",
      " 24  parametrizedLinkRatio           3171 non-null   float64\n",
      " 25  spelling_errors_ratio           3171 non-null   float64\n",
      "dtypes: float64(12), int64(8), object(6)\n",
      "memory usage: 644.2+ KB\n"
     ]
    }
   ],
   "source": [
    "test_data.info()"
   ]
  },
  {
   "cell_type": "code",
   "execution_count": 159,
   "metadata": {
    "colab": {
     "base_uri": "https://localhost:8080/"
    },
    "id": "NhpjDoY4OoA7",
    "outputId": "7be3ff69-f2e3-4223-86f8-be88c9c8b8da"
   },
   "outputs": [
    {
     "data": {
      "text/plain": [
       "0"
      ]
     },
     "execution_count": 159,
     "metadata": {},
     "output_type": "execute_result"
    }
   ],
   "source": [
    "train_data.duplicated().sum()"
   ]
  },
  {
   "cell_type": "code",
   "execution_count": 160,
   "metadata": {
    "colab": {
     "base_uri": "https://localhost:8080/"
    },
    "id": "mB88x5SUOoA7",
    "outputId": "6c43991b-75c8-4e04-c3ff-4e6e5ec30827"
   },
   "outputs": [
    {
     "data": {
      "text/plain": [
       "0"
      ]
     },
     "execution_count": 160,
     "metadata": {},
     "output_type": "execute_result"
    }
   ],
   "source": [
    "test_data.duplicated().sum()"
   ]
  },
  {
   "cell_type": "code",
   "execution_count": 161,
   "metadata": {
    "id": "8i0Gii55OoA8"
   },
   "outputs": [],
   "source": [
    "urlid = train_data[\"urlid\"]"
   ]
  },
  {
   "cell_type": "markdown",
   "metadata": {},
   "source": [
    "# Converting the JSON into a Data Frame"
   ]
  },
  {
   "cell_type": "code",
   "execution_count": 162,
   "metadata": {
    "id": "d1OHYApoOoA8"
   },
   "outputs": [],
   "source": [
    "title = []\n",
    "body = []\n",
    "urlid = []\n",
    "label = []\n",
    "\n",
    "for i in range(7395):\n",
    "    X=json.loads(train_data[\"boilerplate\"][i])\n",
    "    if 'title' in X.keys() and 'body' in X.keys():\n",
    "        title.append(X.get('title'))\n",
    "        body.append(X.get('body'))\n",
    "        urlid.append(train_data['urlid'][i])\n",
    "        label.append(train_data['label'][i])\n",
    "    \n",
    "\n",
    "trainboilerplate = {'urlid':urlid,'title':title,'body':body,'label':label}\n",
    "newTrainBoilerPlate = pd.DataFrame.from_dict(trainboilerplate) "
   ]
  },
  {
   "cell_type": "code",
   "execution_count": 163,
   "metadata": {
    "colab": {
     "base_uri": "https://localhost:8080/",
     "height": 514
    },
    "id": "MsjnZzmmOoA9",
    "outputId": "beda410b-5c21-40e7-b241-14570da0525e"
   },
   "outputs": [
    {
     "data": {
      "text/html": [
       "<div>\n",
       "<style scoped>\n",
       "    .dataframe tbody tr th:only-of-type {\n",
       "        vertical-align: middle;\n",
       "    }\n",
       "\n",
       "    .dataframe tbody tr th {\n",
       "        vertical-align: top;\n",
       "    }\n",
       "\n",
       "    .dataframe thead th {\n",
       "        text-align: right;\n",
       "    }\n",
       "</style>\n",
       "<table border=\"1\" class=\"dataframe\">\n",
       "  <thead>\n",
       "    <tr style=\"text-align: right;\">\n",
       "      <th></th>\n",
       "      <th>urlid</th>\n",
       "      <th>title</th>\n",
       "      <th>body</th>\n",
       "      <th>label</th>\n",
       "    </tr>\n",
       "  </thead>\n",
       "  <tbody>\n",
       "    <tr>\n",
       "      <th>0</th>\n",
       "      <td>4042</td>\n",
       "      <td>IBM Sees Holographic Calls Air Breathing Batte...</td>\n",
       "      <td>A sign stands outside the International Busine...</td>\n",
       "      <td>0</td>\n",
       "    </tr>\n",
       "    <tr>\n",
       "      <th>1</th>\n",
       "      <td>8471</td>\n",
       "      <td>The Fully Electronic Futuristic Starting Gun T...</td>\n",
       "      <td>And that can be carried on a plane without the...</td>\n",
       "      <td>1</td>\n",
       "    </tr>\n",
       "    <tr>\n",
       "      <th>2</th>\n",
       "      <td>1164</td>\n",
       "      <td>Fruits that Fight the Flu fruits that fight th...</td>\n",
       "      <td>Apples The most popular source of antioxidants...</td>\n",
       "      <td>1</td>\n",
       "    </tr>\n",
       "    <tr>\n",
       "      <th>3</th>\n",
       "      <td>6684</td>\n",
       "      <td>10 Foolproof Tips for Better Sleep</td>\n",
       "      <td>There was a period in my life when I had a lot...</td>\n",
       "      <td>1</td>\n",
       "    </tr>\n",
       "    <tr>\n",
       "      <th>4</th>\n",
       "      <td>9006</td>\n",
       "      <td>The 50 Coolest Jerseys You Didn t Know Existed...</td>\n",
       "      <td>Jersey sales is a curious business Whether you...</td>\n",
       "      <td>0</td>\n",
       "    </tr>\n",
       "    <tr>\n",
       "      <th>5</th>\n",
       "      <td>7018</td>\n",
       "      <td>Genital Herpes Treatment</td>\n",
       "      <td>Genital herpes is caused by herpes simplex vir...</td>\n",
       "      <td>0</td>\n",
       "    </tr>\n",
       "    <tr>\n",
       "      <th>6</th>\n",
       "      <td>8685</td>\n",
       "      <td>fashion lane American Wild Child</td>\n",
       "      <td>Our favorite summer holiday is just around the...</td>\n",
       "      <td>1</td>\n",
       "    </tr>\n",
       "    <tr>\n",
       "      <th>7</th>\n",
       "      <td>3402</td>\n",
       "      <td>Racing For Recovery by Dean Johnson racing for...</td>\n",
       "      <td>Racing For Recovery is the growing idea that d...</td>\n",
       "      <td>0</td>\n",
       "    </tr>\n",
       "    <tr>\n",
       "      <th>8</th>\n",
       "      <td>477</td>\n",
       "      <td>Valet The Handbook 31 Days 31 days</td>\n",
       "      <td>Resolutions are for suckers Instead of swearin...</td>\n",
       "      <td>1</td>\n",
       "    </tr>\n",
       "    <tr>\n",
       "      <th>9</th>\n",
       "      <td>6731</td>\n",
       "      <td>Cookies and Cream Brownies How Sweet It Is</td>\n",
       "      <td>More brownies It seems that I can t get throug...</td>\n",
       "      <td>1</td>\n",
       "    </tr>\n",
       "    <tr>\n",
       "      <th>10</th>\n",
       "      <td>2293</td>\n",
       "      <td>Business Financial News Breaking US Internatio...</td>\n",
       "      <td>Faced with a stream of financial scandals the ...</td>\n",
       "      <td>0</td>\n",
       "    </tr>\n",
       "    <tr>\n",
       "      <th>11</th>\n",
       "      <td>3651</td>\n",
       "      <td>A Tip of the Cap to The Greatest Iron Man of T...</td>\n",
       "      <td>As you surely know by now Brett Favre s NFL re...</td>\n",
       "      <td>0</td>\n",
       "    </tr>\n",
       "    <tr>\n",
       "      <th>12</th>\n",
       "      <td>1917</td>\n",
       "      <td>9 Foods That Trash Your Teeth</td>\n",
       "      <td>There are the 700 different types of germs in ...</td>\n",
       "      <td>1</td>\n",
       "    </tr>\n",
       "    <tr>\n",
       "      <th>13</th>\n",
       "      <td>1063</td>\n",
       "      <td></td>\n",
       "      <td></td>\n",
       "      <td>1</td>\n",
       "    </tr>\n",
       "    <tr>\n",
       "      <th>14</th>\n",
       "      <td>2110</td>\n",
       "      <td>French Onion Steaks with Red Wine Sauce french...</td>\n",
       "      <td>Really this is just an excuse to get drunk Or ...</td>\n",
       "      <td>0</td>\n",
       "    </tr>\n",
       "  </tbody>\n",
       "</table>\n",
       "</div>"
      ],
      "text/plain": [
       "    urlid                                              title  \\\n",
       "0    4042  IBM Sees Holographic Calls Air Breathing Batte...   \n",
       "1    8471  The Fully Electronic Futuristic Starting Gun T...   \n",
       "2    1164  Fruits that Fight the Flu fruits that fight th...   \n",
       "3    6684                10 Foolproof Tips for Better Sleep    \n",
       "4    9006  The 50 Coolest Jerseys You Didn t Know Existed...   \n",
       "5    7018                          Genital Herpes Treatment    \n",
       "6    8685                  fashion lane American Wild Child    \n",
       "7    3402  Racing For Recovery by Dean Johnson racing for...   \n",
       "8     477                 Valet The Handbook 31 Days 31 days   \n",
       "9    6731        Cookies and Cream Brownies How Sweet It Is    \n",
       "10   2293  Business Financial News Breaking US Internatio...   \n",
       "11   3651  A Tip of the Cap to The Greatest Iron Man of T...   \n",
       "12   1917                     9 Foods That Trash Your Teeth    \n",
       "13   1063                                                      \n",
       "14   2110  French Onion Steaks with Red Wine Sauce french...   \n",
       "\n",
       "                                                 body  label  \n",
       "0   A sign stands outside the International Busine...      0  \n",
       "1   And that can be carried on a plane without the...      1  \n",
       "2   Apples The most popular source of antioxidants...      1  \n",
       "3   There was a period in my life when I had a lot...      1  \n",
       "4   Jersey sales is a curious business Whether you...      0  \n",
       "5   Genital herpes is caused by herpes simplex vir...      0  \n",
       "6   Our favorite summer holiday is just around the...      1  \n",
       "7   Racing For Recovery is the growing idea that d...      0  \n",
       "8   Resolutions are for suckers Instead of swearin...      1  \n",
       "9   More brownies It seems that I can t get throug...      1  \n",
       "10  Faced with a stream of financial scandals the ...      0  \n",
       "11  As you surely know by now Brett Favre s NFL re...      0  \n",
       "12  There are the 700 different types of germs in ...      1  \n",
       "13                                                         1  \n",
       "14  Really this is just an excuse to get drunk Or ...      0  "
      ]
     },
     "execution_count": 163,
     "metadata": {},
     "output_type": "execute_result"
    }
   ],
   "source": [
    "newTrainBoilerPlate.head(15)"
   ]
  },
  {
   "cell_type": "code",
   "execution_count": 164,
   "metadata": {
    "colab": {
     "base_uri": "https://localhost:8080/"
    },
    "id": "VqcRfWbkOoA-",
    "outputId": "9037ba26-ed74-44db-eb47-829a76879da6"
   },
   "outputs": [
    {
     "data": {
      "text/plain": [
       "urlid     0\n",
       "title    12\n",
       "body     57\n",
       "label     0\n",
       "dtype: int64"
      ]
     },
     "execution_count": 164,
     "metadata": {},
     "output_type": "execute_result"
    }
   ],
   "source": [
    "newTrainBoilerPlate.isna().sum()"
   ]
  },
  {
   "cell_type": "code",
   "execution_count": 165,
   "metadata": {
    "id": "-Qc7cZWhOoA-"
   },
   "outputs": [],
   "source": [
    "newTrainBoilerPlate = newTrainBoilerPlate.fillna(method='ffill')"
   ]
  },
  {
   "cell_type": "code",
   "execution_count": 166,
   "metadata": {
    "colab": {
     "base_uri": "https://localhost:8080/"
    },
    "id": "rfYTPzaWOoA_",
    "outputId": "05b57ec3-b940-4f9b-98e7-8d97065312de"
   },
   "outputs": [
    {
     "data": {
      "text/plain": [
       "urlid    0\n",
       "title    0\n",
       "body     0\n",
       "label    0\n",
       "dtype: int64"
      ]
     },
     "execution_count": 166,
     "metadata": {},
     "output_type": "execute_result"
    }
   ],
   "source": [
    "newTrainBoilerPlate.isna().sum()"
   ]
  },
  {
   "cell_type": "code",
   "execution_count": 167,
   "metadata": {
    "colab": {
     "base_uri": "https://localhost:8080/"
    },
    "id": "BLOJ_bB5OoA_",
    "outputId": "8dc78133-0b45-45f7-9581-78918783ba12"
   },
   "outputs": [
    {
     "data": {
      "text/plain": [
       "(7394, 4)"
      ]
     },
     "execution_count": 167,
     "metadata": {},
     "output_type": "execute_result"
    }
   ],
   "source": [
    "newTrainBoilerPlate.shape"
   ]
  },
  {
   "cell_type": "code",
   "execution_count": 168,
   "metadata": {
    "colab": {
     "base_uri": "https://localhost:8080/",
     "height": 669
    },
    "id": "N5GI7qZ7OoBA",
    "outputId": "a6d06926-b5f7-4946-f0c1-a367cdb03e29"
   },
   "outputs": [
    {
     "data": {
      "text/html": [
       "<div>\n",
       "<style scoped>\n",
       "    .dataframe tbody tr th:only-of-type {\n",
       "        vertical-align: middle;\n",
       "    }\n",
       "\n",
       "    .dataframe tbody tr th {\n",
       "        vertical-align: top;\n",
       "    }\n",
       "\n",
       "    .dataframe thead th {\n",
       "        text-align: right;\n",
       "    }\n",
       "</style>\n",
       "<table border=\"1\" class=\"dataframe\">\n",
       "  <thead>\n",
       "    <tr style=\"text-align: right;\">\n",
       "      <th></th>\n",
       "      <th>urlid</th>\n",
       "      <th>title</th>\n",
       "      <th>body</th>\n",
       "      <th>label</th>\n",
       "    </tr>\n",
       "  </thead>\n",
       "  <tbody>\n",
       "    <tr>\n",
       "      <th>0</th>\n",
       "      <td>4042</td>\n",
       "      <td>IBM Sees Holographic Calls Air Breathing Batte...</td>\n",
       "      <td>A sign stands outside the International Busine...</td>\n",
       "      <td>0</td>\n",
       "    </tr>\n",
       "    <tr>\n",
       "      <th>1</th>\n",
       "      <td>8471</td>\n",
       "      <td>The Fully Electronic Futuristic Starting Gun T...</td>\n",
       "      <td>And that can be carried on a plane without the...</td>\n",
       "      <td>1</td>\n",
       "    </tr>\n",
       "    <tr>\n",
       "      <th>2</th>\n",
       "      <td>1164</td>\n",
       "      <td>Fruits that Fight the Flu fruits that fight th...</td>\n",
       "      <td>Apples The most popular source of antioxidants...</td>\n",
       "      <td>1</td>\n",
       "    </tr>\n",
       "    <tr>\n",
       "      <th>3</th>\n",
       "      <td>6684</td>\n",
       "      <td>10 Foolproof Tips for Better Sleep</td>\n",
       "      <td>There was a period in my life when I had a lot...</td>\n",
       "      <td>1</td>\n",
       "    </tr>\n",
       "    <tr>\n",
       "      <th>4</th>\n",
       "      <td>9006</td>\n",
       "      <td>The 50 Coolest Jerseys You Didn t Know Existed...</td>\n",
       "      <td>Jersey sales is a curious business Whether you...</td>\n",
       "      <td>0</td>\n",
       "    </tr>\n",
       "    <tr>\n",
       "      <th>5</th>\n",
       "      <td>7018</td>\n",
       "      <td>Genital Herpes Treatment</td>\n",
       "      <td>Genital herpes is caused by herpes simplex vir...</td>\n",
       "      <td>0</td>\n",
       "    </tr>\n",
       "    <tr>\n",
       "      <th>6</th>\n",
       "      <td>8685</td>\n",
       "      <td>fashion lane American Wild Child</td>\n",
       "      <td>Our favorite summer holiday is just around the...</td>\n",
       "      <td>1</td>\n",
       "    </tr>\n",
       "    <tr>\n",
       "      <th>7</th>\n",
       "      <td>3402</td>\n",
       "      <td>Racing For Recovery by Dean Johnson racing for...</td>\n",
       "      <td>Racing For Recovery is the growing idea that d...</td>\n",
       "      <td>0</td>\n",
       "    </tr>\n",
       "    <tr>\n",
       "      <th>8</th>\n",
       "      <td>477</td>\n",
       "      <td>Valet The Handbook 31 Days 31 days</td>\n",
       "      <td>Resolutions are for suckers Instead of swearin...</td>\n",
       "      <td>1</td>\n",
       "    </tr>\n",
       "    <tr>\n",
       "      <th>9</th>\n",
       "      <td>6731</td>\n",
       "      <td>Cookies and Cream Brownies How Sweet It Is</td>\n",
       "      <td>More brownies It seems that I can t get throug...</td>\n",
       "      <td>1</td>\n",
       "    </tr>\n",
       "    <tr>\n",
       "      <th>10</th>\n",
       "      <td>2293</td>\n",
       "      <td>Business Financial News Breaking US Internatio...</td>\n",
       "      <td>Faced with a stream of financial scandals the ...</td>\n",
       "      <td>0</td>\n",
       "    </tr>\n",
       "    <tr>\n",
       "      <th>11</th>\n",
       "      <td>3651</td>\n",
       "      <td>A Tip of the Cap to The Greatest Iron Man of T...</td>\n",
       "      <td>As you surely know by now Brett Favre s NFL re...</td>\n",
       "      <td>0</td>\n",
       "    </tr>\n",
       "    <tr>\n",
       "      <th>12</th>\n",
       "      <td>1917</td>\n",
       "      <td>9 Foods That Trash Your Teeth</td>\n",
       "      <td>There are the 700 different types of germs in ...</td>\n",
       "      <td>1</td>\n",
       "    </tr>\n",
       "    <tr>\n",
       "      <th>13</th>\n",
       "      <td>1063</td>\n",
       "      <td></td>\n",
       "      <td></td>\n",
       "      <td>1</td>\n",
       "    </tr>\n",
       "    <tr>\n",
       "      <th>14</th>\n",
       "      <td>2110</td>\n",
       "      <td>French Onion Steaks with Red Wine Sauce french...</td>\n",
       "      <td>Really this is just an excuse to get drunk Or ...</td>\n",
       "      <td>0</td>\n",
       "    </tr>\n",
       "    <tr>\n",
       "      <th>15</th>\n",
       "      <td>5318</td>\n",
       "      <td>Izabel Goulart Swimsuit by Kikidoll 2012 Sport...</td>\n",
       "      <td>TM 2012 Turner Broadcasting System Inc A Time ...</td>\n",
       "      <td>0</td>\n",
       "    </tr>\n",
       "    <tr>\n",
       "      <th>16</th>\n",
       "      <td>9842</td>\n",
       "      <td>Liquid Mountaineering The Awesomer</td>\n",
       "      <td>Link We re pretty skeptical about walking on w...</td>\n",
       "      <td>0</td>\n",
       "    </tr>\n",
       "    <tr>\n",
       "      <th>17</th>\n",
       "      <td>3946</td>\n",
       "      <td>Liquid Mountaineering The Awesomer</td>\n",
       "      <td>The annual Chap Olympiad described as a celebr...</td>\n",
       "      <td>0</td>\n",
       "    </tr>\n",
       "    <tr>\n",
       "      <th>18</th>\n",
       "      <td>334</td>\n",
       "      <td>Grilled Peaches Sugarcrafter</td>\n",
       "      <td>June 6 2011 Print E mail Filed under grilled p...</td>\n",
       "      <td>1</td>\n",
       "    </tr>\n",
       "    <tr>\n",
       "      <th>19</th>\n",
       "      <td>271</td>\n",
       "      <td>How to Make Your Home Healthier A Room by Room...</td>\n",
       "      <td>Studies show one in three shower heads are con...</td>\n",
       "      <td>1</td>\n",
       "    </tr>\n",
       "  </tbody>\n",
       "</table>\n",
       "</div>"
      ],
      "text/plain": [
       "    urlid                                              title  \\\n",
       "0    4042  IBM Sees Holographic Calls Air Breathing Batte...   \n",
       "1    8471  The Fully Electronic Futuristic Starting Gun T...   \n",
       "2    1164  Fruits that Fight the Flu fruits that fight th...   \n",
       "3    6684                10 Foolproof Tips for Better Sleep    \n",
       "4    9006  The 50 Coolest Jerseys You Didn t Know Existed...   \n",
       "5    7018                          Genital Herpes Treatment    \n",
       "6    8685                  fashion lane American Wild Child    \n",
       "7    3402  Racing For Recovery by Dean Johnson racing for...   \n",
       "8     477                 Valet The Handbook 31 Days 31 days   \n",
       "9    6731        Cookies and Cream Brownies How Sweet It Is    \n",
       "10   2293  Business Financial News Breaking US Internatio...   \n",
       "11   3651  A Tip of the Cap to The Greatest Iron Man of T...   \n",
       "12   1917                     9 Foods That Trash Your Teeth    \n",
       "13   1063                                                      \n",
       "14   2110  French Onion Steaks with Red Wine Sauce french...   \n",
       "15   5318  Izabel Goulart Swimsuit by Kikidoll 2012 Sport...   \n",
       "16   9842                Liquid Mountaineering The Awesomer    \n",
       "17   3946                Liquid Mountaineering The Awesomer    \n",
       "18    334                      Grilled Peaches Sugarcrafter    \n",
       "19    271  How to Make Your Home Healthier A Room by Room...   \n",
       "\n",
       "                                                 body  label  \n",
       "0   A sign stands outside the International Busine...      0  \n",
       "1   And that can be carried on a plane without the...      1  \n",
       "2   Apples The most popular source of antioxidants...      1  \n",
       "3   There was a period in my life when I had a lot...      1  \n",
       "4   Jersey sales is a curious business Whether you...      0  \n",
       "5   Genital herpes is caused by herpes simplex vir...      0  \n",
       "6   Our favorite summer holiday is just around the...      1  \n",
       "7   Racing For Recovery is the growing idea that d...      0  \n",
       "8   Resolutions are for suckers Instead of swearin...      1  \n",
       "9   More brownies It seems that I can t get throug...      1  \n",
       "10  Faced with a stream of financial scandals the ...      0  \n",
       "11  As you surely know by now Brett Favre s NFL re...      0  \n",
       "12  There are the 700 different types of germs in ...      1  \n",
       "13                                                         1  \n",
       "14  Really this is just an excuse to get drunk Or ...      0  \n",
       "15  TM 2012 Turner Broadcasting System Inc A Time ...      0  \n",
       "16  Link We re pretty skeptical about walking on w...      0  \n",
       "17  The annual Chap Olympiad described as a celebr...      0  \n",
       "18  June 6 2011 Print E mail Filed under grilled p...      1  \n",
       "19  Studies show one in three shower heads are con...      1  "
      ]
     },
     "execution_count": 168,
     "metadata": {},
     "output_type": "execute_result"
    }
   ],
   "source": [
    "newTrainBoilerPlate.head(20)"
   ]
  },
  {
   "cell_type": "code",
   "execution_count": 169,
   "metadata": {
    "id": "ihBgz_Y0OoBA"
   },
   "outputs": [],
   "source": [
    "title=[]\n",
    "body=[]\n",
    "urlid=[]\n",
    "label=[]\n",
    "\n",
    "for i in range(3171):\n",
    "    X=json.loads(test_data[\"boilerplate\"][i])\n",
    "    if 'title' in X.keys() and 'body' in X.keys():\n",
    "        title.append(X.get('title'))\n",
    "        body.append(X.get('body'))\n",
    "        urlid.append(test_data['urlid'][i])\n",
    "        \n",
    "    \n",
    "\n",
    "testBoilerPlate = {'urlid':urlid,'title':title,'body':body}\n",
    "newTestBoilerPlate = pd.DataFrame.from_dict(testBoilerPlate) "
   ]
  },
  {
   "cell_type": "code",
   "execution_count": 170,
   "metadata": {
    "colab": {
     "base_uri": "https://localhost:8080/"
    },
    "id": "0hwQq3nIOoBB",
    "outputId": "1300633c-2229-4275-f163-bf44b80587f9"
   },
   "outputs": [
    {
     "data": {
      "text/plain": [
       "urlid     0\n",
       "title     5\n",
       "body     20\n",
       "dtype: int64"
      ]
     },
     "execution_count": 170,
     "metadata": {},
     "output_type": "execute_result"
    }
   ],
   "source": [
    "newTestBoilerPlate.isna().sum()"
   ]
  },
  {
   "cell_type": "code",
   "execution_count": 171,
   "metadata": {
    "id": "HLTe-sFnOoBC"
   },
   "outputs": [],
   "source": [
    "newTestBoilerPlate = newTestBoilerPlate.fillna(method='ffill')"
   ]
  },
  {
   "cell_type": "code",
   "execution_count": 172,
   "metadata": {
    "id": "QqUBkQADOoBC",
    "scrolled": true
   },
   "outputs": [],
   "source": [
    "for i in range(7393):\n",
    "  if newTrainBoilerPlate['body'][i] is  None :\n",
    "          newTrainBoilerPlate.drop(index=i,inplace=True)\n",
    "  elif len(newTrainBoilerPlate['body'][i]) < 20:\n",
    "          newTrainBoilerPlate.drop(index=i,inplace=True)\n",
    "newTrainBoilerPlate.reset_index(inplace=True)   "
   ]
  },
  {
   "cell_type": "code",
   "execution_count": 173,
   "metadata": {
    "colab": {
     "base_uri": "https://localhost:8080/",
     "height": 419
    },
    "id": "r8gicIWmOoBD",
    "outputId": "0fc4310b-cf3b-4a8c-efd0-fc50322fa212"
   },
   "outputs": [
    {
     "data": {
      "text/html": [
       "<div>\n",
       "<style scoped>\n",
       "    .dataframe tbody tr th:only-of-type {\n",
       "        vertical-align: middle;\n",
       "    }\n",
       "\n",
       "    .dataframe tbody tr th {\n",
       "        vertical-align: top;\n",
       "    }\n",
       "\n",
       "    .dataframe thead th {\n",
       "        text-align: right;\n",
       "    }\n",
       "</style>\n",
       "<table border=\"1\" class=\"dataframe\">\n",
       "  <thead>\n",
       "    <tr style=\"text-align: right;\">\n",
       "      <th></th>\n",
       "      <th>urlid</th>\n",
       "      <th>title</th>\n",
       "      <th>body</th>\n",
       "      <th>label</th>\n",
       "    </tr>\n",
       "  </thead>\n",
       "  <tbody>\n",
       "    <tr>\n",
       "      <th>0</th>\n",
       "      <td>4042</td>\n",
       "      <td>IBM Sees Holographic Calls Air Breathing Batte...</td>\n",
       "      <td>A sign stands outside the International Busine...</td>\n",
       "      <td>0</td>\n",
       "    </tr>\n",
       "    <tr>\n",
       "      <th>1</th>\n",
       "      <td>8471</td>\n",
       "      <td>The Fully Electronic Futuristic Starting Gun T...</td>\n",
       "      <td>And that can be carried on a plane without the...</td>\n",
       "      <td>1</td>\n",
       "    </tr>\n",
       "    <tr>\n",
       "      <th>2</th>\n",
       "      <td>1164</td>\n",
       "      <td>Fruits that Fight the Flu fruits that fight th...</td>\n",
       "      <td>Apples The most popular source of antioxidants...</td>\n",
       "      <td>1</td>\n",
       "    </tr>\n",
       "    <tr>\n",
       "      <th>3</th>\n",
       "      <td>6684</td>\n",
       "      <td>10 Foolproof Tips for Better Sleep</td>\n",
       "      <td>There was a period in my life when I had a lot...</td>\n",
       "      <td>1</td>\n",
       "    </tr>\n",
       "    <tr>\n",
       "      <th>4</th>\n",
       "      <td>9006</td>\n",
       "      <td>The 50 Coolest Jerseys You Didn t Know Existed...</td>\n",
       "      <td>Jersey sales is a curious business Whether you...</td>\n",
       "      <td>0</td>\n",
       "    </tr>\n",
       "    <tr>\n",
       "      <th>...</th>\n",
       "      <td>...</td>\n",
       "      <td>...</td>\n",
       "      <td>...</td>\n",
       "      <td>...</td>\n",
       "    </tr>\n",
       "    <tr>\n",
       "      <th>6736</th>\n",
       "      <td>8923</td>\n",
       "      <td>Gummy Snake Worth1000 Contests</td>\n",
       "      <td>Entry Details Entered 12 1 2008 12 08 35 PM Ra...</td>\n",
       "      <td>0</td>\n",
       "    </tr>\n",
       "    <tr>\n",
       "      <th>6737</th>\n",
       "      <td>8958</td>\n",
       "      <td>Kno Raises 46 Million More To Build Most Power...</td>\n",
       "      <td>Marc Andreessen is normally enthusiastic about...</td>\n",
       "      <td>0</td>\n",
       "    </tr>\n",
       "    <tr>\n",
       "      <th>6738</th>\n",
       "      <td>8895</td>\n",
       "      <td>Why I Miss College</td>\n",
       "      <td>Mar 30 2009 I d like to congratulate Jane on h...</td>\n",
       "      <td>0</td>\n",
       "    </tr>\n",
       "    <tr>\n",
       "      <th>6739</th>\n",
       "      <td>1191</td>\n",
       "      <td>Sweet Potatoes Eat This Not That  i'm eating t...</td>\n",
       "      <td>They re loaded with vitamin C which smoothes o...</td>\n",
       "      <td>1</td>\n",
       "    </tr>\n",
       "    <tr>\n",
       "      <th>6740</th>\n",
       "      <td>90</td>\n",
       "      <td>Esti Ginzburg Swimsuit by Letarte by Lisa Cabr...</td>\n",
       "      <td>Esti Ginzburg 20 is a native of Tel Aviv Israe...</td>\n",
       "      <td>0</td>\n",
       "    </tr>\n",
       "  </tbody>\n",
       "</table>\n",
       "<p>6741 rows × 4 columns</p>\n",
       "</div>"
      ],
      "text/plain": [
       "      urlid                                              title  \\\n",
       "0      4042  IBM Sees Holographic Calls Air Breathing Batte...   \n",
       "1      8471  The Fully Electronic Futuristic Starting Gun T...   \n",
       "2      1164  Fruits that Fight the Flu fruits that fight th...   \n",
       "3      6684                10 Foolproof Tips for Better Sleep    \n",
       "4      9006  The 50 Coolest Jerseys You Didn t Know Existed...   \n",
       "...     ...                                                ...   \n",
       "6736   8923                    Gummy Snake Worth1000 Contests    \n",
       "6737   8958  Kno Raises 46 Million More To Build Most Power...   \n",
       "6738   8895                                Why I Miss College    \n",
       "6739   1191  Sweet Potatoes Eat This Not That  i'm eating t...   \n",
       "6740     90  Esti Ginzburg Swimsuit by Letarte by Lisa Cabr...   \n",
       "\n",
       "                                                   body  label  \n",
       "0     A sign stands outside the International Busine...      0  \n",
       "1     And that can be carried on a plane without the...      1  \n",
       "2     Apples The most popular source of antioxidants...      1  \n",
       "3     There was a period in my life when I had a lot...      1  \n",
       "4     Jersey sales is a curious business Whether you...      0  \n",
       "...                                                 ...    ...  \n",
       "6736  Entry Details Entered 12 1 2008 12 08 35 PM Ra...      0  \n",
       "6737  Marc Andreessen is normally enthusiastic about...      0  \n",
       "6738  Mar 30 2009 I d like to congratulate Jane on h...      0  \n",
       "6739  They re loaded with vitamin C which smoothes o...      1  \n",
       "6740  Esti Ginzburg 20 is a native of Tel Aviv Israe...      0  \n",
       "\n",
       "[6741 rows x 4 columns]"
      ]
     },
     "execution_count": 173,
     "metadata": {},
     "output_type": "execute_result"
    }
   ],
   "source": [
    "newTrainBoilerPlate.drop(columns=['index'],inplace=True)\n",
    "newTrainBoilerPlate"
   ]
  },
  {
   "cell_type": "code",
   "execution_count": 174,
   "metadata": {
    "id": "utkT1WZtQCpz"
   },
   "outputs": [],
   "source": [
    "y = newTrainBoilerPlate['label']"
   ]
  },
  {
   "cell_type": "code",
   "execution_count": 175,
   "metadata": {
    "colab": {
     "base_uri": "https://localhost:8080/",
     "height": 487
    },
    "id": "6tVsFaB4QLYw",
    "outputId": "56b54f12-6982-4e83-d91a-c0750a676053"
   },
   "outputs": [
    {
     "name": "stderr",
     "output_type": "stream",
     "text": [
      "[nltk_data] Downloading package stopwords to\n",
      "[nltk_data]     C:\\Users\\LENOVO\\AppData\\Roaming\\nltk_data...\n",
      "[nltk_data]   Package stopwords is already up-to-date!\n",
      "[nltk_data] Downloading package punkt to\n",
      "[nltk_data]     C:\\Users\\LENOVO\\AppData\\Roaming\\nltk_data...\n",
      "[nltk_data]   Package punkt is already up-to-date!\n"
     ]
    },
    {
     "data": {
      "text/html": [
       "<div>\n",
       "<style scoped>\n",
       "    .dataframe tbody tr th:only-of-type {\n",
       "        vertical-align: middle;\n",
       "    }\n",
       "\n",
       "    .dataframe tbody tr th {\n",
       "        vertical-align: top;\n",
       "    }\n",
       "\n",
       "    .dataframe thead th {\n",
       "        text-align: right;\n",
       "    }\n",
       "</style>\n",
       "<table border=\"1\" class=\"dataframe\">\n",
       "  <thead>\n",
       "    <tr style=\"text-align: right;\">\n",
       "      <th></th>\n",
       "      <th>title</th>\n",
       "      <th>body</th>\n",
       "    </tr>\n",
       "  </thead>\n",
       "  <tbody>\n",
       "    <tr>\n",
       "      <th>0</th>\n",
       "      <td>ibm sees holographic calls air breathing batte...</td>\n",
       "      <td>a sign stands outside the international busine...</td>\n",
       "    </tr>\n",
       "    <tr>\n",
       "      <th>1</th>\n",
       "      <td>the fully electronic futuristic starting gun t...</td>\n",
       "      <td>and that can be carried on a plane without the...</td>\n",
       "    </tr>\n",
       "    <tr>\n",
       "      <th>2</th>\n",
       "      <td>fruits that fight the flu fruits that fight th...</td>\n",
       "      <td>apples the most popular source of antioxidants...</td>\n",
       "    </tr>\n",
       "    <tr>\n",
       "      <th>3</th>\n",
       "      <td>foolproof tips for better sleep</td>\n",
       "      <td>there was a period in my life when i had a lot...</td>\n",
       "    </tr>\n",
       "    <tr>\n",
       "      <th>4</th>\n",
       "      <td>the    coolest jerseys you didn t know existed...</td>\n",
       "      <td>jersey sales is a curious business whether you...</td>\n",
       "    </tr>\n",
       "    <tr>\n",
       "      <th>...</th>\n",
       "      <td>...</td>\n",
       "      <td>...</td>\n",
       "    </tr>\n",
       "    <tr>\n",
       "      <th>6736</th>\n",
       "      <td>gummy snake worth     contests</td>\n",
       "      <td>entry details entered                    pm ra...</td>\n",
       "    </tr>\n",
       "    <tr>\n",
       "      <th>6737</th>\n",
       "      <td>kno raises    million more to build most power...</td>\n",
       "      <td>marc andreessen is normally enthusiastic about...</td>\n",
       "    </tr>\n",
       "    <tr>\n",
       "      <th>6738</th>\n",
       "      <td>why i miss college</td>\n",
       "      <td>mar         i d like to congratulate jane on h...</td>\n",
       "    </tr>\n",
       "    <tr>\n",
       "      <th>6739</th>\n",
       "      <td>sweet potatoes eat this not that  i m eating t...</td>\n",
       "      <td>they re loaded with vitamin c which smoothes o...</td>\n",
       "    </tr>\n",
       "    <tr>\n",
       "      <th>6740</th>\n",
       "      <td>esti ginzburg swimsuit by letarte by lisa cabr...</td>\n",
       "      <td>esti ginzburg    is a native of tel aviv israe...</td>\n",
       "    </tr>\n",
       "  </tbody>\n",
       "</table>\n",
       "<p>6741 rows × 2 columns</p>\n",
       "</div>"
      ],
      "text/plain": [
       "                                                  title  \\\n",
       "0     ibm sees holographic calls air breathing batte...   \n",
       "1     the fully electronic futuristic starting gun t...   \n",
       "2     fruits that fight the flu fruits that fight th...   \n",
       "3                      foolproof tips for better sleep    \n",
       "4     the    coolest jerseys you didn t know existed...   \n",
       "...                                                 ...   \n",
       "6736                    gummy snake worth     contests    \n",
       "6737  kno raises    million more to build most power...   \n",
       "6738                                why i miss college    \n",
       "6739  sweet potatoes eat this not that  i m eating t...   \n",
       "6740  esti ginzburg swimsuit by letarte by lisa cabr...   \n",
       "\n",
       "                                                   body  \n",
       "0     a sign stands outside the international busine...  \n",
       "1     and that can be carried on a plane without the...  \n",
       "2     apples the most popular source of antioxidants...  \n",
       "3     there was a period in my life when i had a lot...  \n",
       "4     jersey sales is a curious business whether you...  \n",
       "...                                                 ...  \n",
       "6736  entry details entered                    pm ra...  \n",
       "6737  marc andreessen is normally enthusiastic about...  \n",
       "6738  mar         i d like to congratulate jane on h...  \n",
       "6739  they re loaded with vitamin c which smoothes o...  \n",
       "6740  esti ginzburg    is a native of tel aviv israe...  \n",
       "\n",
       "[6741 rows x 2 columns]"
      ]
     },
     "execution_count": 175,
     "metadata": {},
     "output_type": "execute_result"
    }
   ],
   "source": [
    "nltk.download('stopwords')\n",
    "nltk.download('punkt')\n",
    "ps=PorterStemmer()\n",
    "data=newTrainBoilerPlate.iloc[:,1:3]\n",
    "data.replace(\"[^a-zA-Z]\",\" \",regex=True,inplace=True)\n",
    "data['title']=data['title'].str.lower()\n",
    "data['body']=data['body'].str.lower()\n",
    "data"
   ]
  },
  {
   "cell_type": "code",
   "execution_count": 176,
   "metadata": {
    "colab": {
     "base_uri": "https://localhost:8080/",
     "height": 171
    },
    "id": "S0Cxw8I6QSeG",
    "outputId": "f8d35825-9e19-4426-c611-a9870e46c903"
   },
   "outputs": [
    {
     "data": {
      "text/plain": [
       "'Homemade Enchilada Sauce Lynn s Kitchen Adventures  I usually buy my enchilada sauce Yes I knew I should be making it but I had never found a recipe that I was really happy with I had tried several and they just weren t very good So I stuck to the canned stuff you can get at the grocery store I was recently talking to a friend of mine about this She lived in Mexico for a few years so she knows some about Mexican cooking I asked her how she made her enchilada sauce She told me the basics and then gave me an exact recipe I decided to give it a try This recipe was really good This was the best enchilada sauce that I have made It had great flavor I think it was even better than the canned sauce My husband thought it could have been spicier But he likes his enchiladas spicy You can always add more chili powder or chilies if you like it really spicy The kids and I thought it was really good just like it is I did change two things It called for green onions I did not have any so I used regular onions I thought they worked great so I will probably continue to make it this way I also pureed everything in the blender I wanted a very smooth sauce If you want it more chunky just mix the ingredients together and do not blend Enchiladas are a pretty frugal meal and homemade enchilada sauce is a great way to make enchiladas even more frugal 2 8 ounce cans tomato sauce 1 4 ounce can chopped green chilies undrained 1 2 cup onion chopped 2 teaspoons chili powder 1 teaspoon ground cumin 1 4 teaspoon dried oregano 1 clove garlic minced Combine all tomato sauce ingredients and place in a blender Puree ingredients Then place in a saucepan Heat over medium heat until heated through about 5 minutes Use as desired for enchiladas Get your free Quick Easy Breakfasts ebook Just subscribe for free email updates from Lynn s Kitchen Adventures Like this article Share it this homemade enchilada sauce recipe came from a friend of mine who spent several years in mexico.'"
      ]
     },
     "execution_count": 176,
     "metadata": {},
     "output_type": "execute_result"
    }
   ],
   "source": [
    "titlebodycombined_train=[]\n",
    "titlebodycombined_test=[]\n",
    "for row in range(0,len(data.index)):\n",
    "    titlebodycombined_train.append(' '.join(str(x) for x in data.iloc[row,1:3]))\n",
    "\n",
    "\n",
    "for row in range(0,len(newTestBoilerPlate.index)):\n",
    "    titlebodycombined_test.append(' '.join(str(x) for x in newTestBoilerPlate.iloc[row,1:3]))\n",
    "titlebodycombined_test[0] "
   ]
  },
  {
   "cell_type": "markdown",
   "metadata": {},
   "source": [
    "# Using Word Tokenizer and Stemming"
   ]
  },
  {
   "cell_type": "code",
   "execution_count": 177,
   "metadata": {
    "colab": {
     "base_uri": "https://localhost:8080/",
     "height": 171
    },
    "id": "QWEd3za0Qdn4",
    "outputId": "30984c91-7792-4e52-81ca-c8ae4efd6949"
   },
   "outputs": [
    {
     "data": {
      "text/plain": [
       "'sign stand outsid intern busi machin corp ibm almaden research center campu san jose california photograph toni avelar bloomberg build stand intern busi machin corp ibm almaden research center campu santa teresa hill san jose california photograph toni avelar bloomberg mobil phone project imag anyon call laptop power kinet energi least intern busi machin corp see crystal ball predict part annual tradit armonk new york base compani survey research find five idea expect take root next five year ibm world largest provid comput servic look silicon valley input glean mani idea almaden research center san jose california holograph convers project mobil phone lead thi year list predict also includ air breath batteri comput program tell traffic jam take place environment inform gener sensor car phone citi power heat thrown comput server stretch goal good said paul saffo manag director foresight invest advisori firm discern san francisco era pessim new black littl dose technolog optim bad thing ibm idl specul compani one big corpor invest long rang research project count innov fuel growth saffo said predict pan though ibm wa overli optimist spread speech technolog instanc idea lead product broad implic societi well ibm bottom line said research spend continu research grand research organ gone said saffo also consult associ professor stanford univers ibm invest billion research develop last year percent revenu percent earli compani spend bigger share research comput rival hewlett packard co top maker person comput spent percent last year almaden scientist work project alway fit ibm comput busi lab research includ effort develop electr car batteri run mile one charg filtrat system desalin program show chang geograph data ibm rose cent new york stock exchang composit trade stock gain percent thi year befor today citizen scienc list meant give window compani innov engin said josephin cheng vice presid ibm almaden lab thi demonstr real cultur innov ibm willing devot solv world biggest problem said mani predict base project ibm ha work one thi year idea sensor car wallet person devic give scientist better data environ expans compani citizen scienc initi earlier thi year ibm team california state water resourc control board citi san jose environment servic help gather inform waterway research almaden creat applic let smartphon user snap photo stream creek report back condit hope casual observ help local state offici resourc work themselv traffic predictor ibm also see data help shorten commut next five year comput program use algorithm real time traffic inform predict road backup avoid get stuck batteri may last time longer today ibm say rather use current lithium ion technolog new model could reli energi dens metal onli need interact air recharg electron devic might ditch batteri altogeth use someth similar kinet wristwatch onli need shaken gener charg final predict involv recycl heat gener comput data center almost half power use data center current spent keep comput cool ibm scientist say would better har heat warm hous offic ibm first list predict compil end research said instantan speech translat would becom norm happen yet program quickli translat electron document instant messag app perform limit speech translat noth wide avail act like univers translat star trek second life compani also predict onlin immers environ second life would becom widespread immers video game popular ever second life growth ha slow internet user flock instead environ facebook inc twitter inc meanwhil predict mobil phone act wallet ticket broker concierg bank shop assist come true thank explos smartphon applic consum pay bill bank app buy movi ticket get instant feedback potenti purchas tap phone nice thing list provok thought saffo said everyth came true job contact report thi stori ryan flinn san francisco rflinn bloomberg net contact editor respons thi stori tom gile tgile bloomberg net mobil phone project imag anyon call laptop power kinet energi least intern busi machin corp see crystal ball'"
      ]
     },
     "execution_count": 177,
     "metadata": {},
     "output_type": "execute_result"
    }
   ],
   "source": [
    "corpus=[]\n",
    "stops = set(stopwords.words(\"english\"))\n",
    "\n",
    "for i in range(len(titlebodycombined_train)):\n",
    "    tokens=nltk.word_tokenize(titlebodycombined_train[i])\n",
    "    \n",
    "    token_words = [w for w in tokens if w.isalpha()]\n",
    "     \n",
    "    stemmed_list=[ps.stem(word) for word in token_words]\n",
    "    \n",
    "    meaningful_words = [w for w in stemmed_list if not w in stops]\n",
    "    rejoined_words = ( \" \".join(meaningful_words))\n",
    "    corpus.append(rejoined_words)\n",
    "\n",
    "corpus[0]"
   ]
  },
  {
   "cell_type": "code",
   "execution_count": 178,
   "metadata": {
    "colab": {
     "base_uri": "https://localhost:8080/",
     "height": 171
    },
    "id": "fX2Yie9uQ1gp",
    "outputId": "aaedb660-ca50-47f5-b7c3-3e6e624e8c1d"
   },
   "outputs": [
    {
     "data": {
      "text/plain": [
       "'homemad enchilada sauc lynn kitchen adventur I usual buy enchilada sauc ye I knew I make I never found recip I wa realli happi I tri sever veri good So I stuck stuff get groceri store I wa recent talk friend mine thi live mexico year know mexican cook I ask made enchilada sauc told basic gave exact recip I decid give tri thi recip wa realli good thi wa best enchilada sauc I made It great flavor I think wa even better sauc My husband thought could spicier like hi enchilada spici alway add chili powder chili like realli spici kid I thought wa realli good like I chang two thing It call green onion I ani I use regular onion I thought work great I probabl continu make thi way I also pure everyth blender I want veri smooth sauc If want chunki mix ingredi togeth blend enchilada pretti frugal meal homemad enchilada sauc great way make enchilada even frugal ounc tomato sauc ounc chop green chili undrain cup onion chop teaspoon chili powder teaspoon ground cumin teaspoon dri oregano clove garlic minc combin tomato sauc ingredi place blender pure ingredi place saucepan heat medium heat heat minut use desir enchilada get free quick easi breakfast ebook subscrib free email updat lynn kitchen adventur like thi articl share thi homemad enchilada sauc recip came friend mine spent sever year mexico'"
      ]
     },
     "execution_count": 178,
     "metadata": {},
     "output_type": "execute_result"
    }
   ],
   "source": [
    "corpus1=[]\n",
    "for i in range(len(titlebodycombined_test)):\n",
    "    tokens=nltk.word_tokenize(titlebodycombined_test[i])\n",
    "    \n",
    "    token_words = [w for w in tokens if w.isalpha()]\n",
    "     \n",
    "    stemmed_list=[ps.stem(word) for word in token_words]\n",
    "    \n",
    "    meaningful_words = [w for w in stemmed_list if not w in stops]\n",
    "    rejoined_words = ( \" \".join(meaningful_words))\n",
    "    corpus1.append(rejoined_words)\n",
    "corpus1[0] "
   ]
  },
  {
   "cell_type": "markdown",
   "metadata": {},
   "source": [
    "# Converting Text into Feature Vectors"
   ]
  },
  {
   "cell_type": "code",
   "execution_count": 179,
   "metadata": {
    "id": "NIV9ZcNmRKWZ"
   },
   "outputs": [],
   "source": [
    "from sklearn.feature_extraction.text import TfidfVectorizer\n",
    "vect_word = TfidfVectorizer(lowercase=True, analyzer='word',\n",
    "                        stop_words= 'english',ngram_range=(1,3),dtype=np.float32)\n",
    "vect_char = TfidfVectorizer( lowercase=True, analyzer='char',\n",
    "                        stop_words= 'english',ngram_range=(3,6),dtype=np.float32)"
   ]
  },
  {
   "cell_type": "code",
   "execution_count": 180,
   "metadata": {
    "id": "CgrAtnZtROB_"
   },
   "outputs": [],
   "source": [
    "from scipy import sparse\n",
    "tr_vect = vect_word.fit_transform(corpus)\n",
    "ts_vect = vect_word.transform(corpus1)\n",
    "\n",
    "tr_vect_char = vect_char.fit_transform(corpus)\n",
    "ts_vect_char = vect_char.transform(corpus1)"
   ]
  },
  {
   "cell_type": "markdown",
   "metadata": {},
   "source": [
    "# Converting Feature Vectors into Sparse Matrix"
   ]
  },
  {
   "cell_type": "code",
   "execution_count": 181,
   "metadata": {
    "id": "lwHYguHJRTC4"
   },
   "outputs": [],
   "source": [
    "X = sparse.hstack([tr_vect, tr_vect_char])\n",
    "x_test = sparse.hstack([ts_vect, ts_vect_char])"
   ]
  },
  {
   "cell_type": "markdown",
   "metadata": {},
   "source": [
    "# Building Model"
   ]
  },
  {
   "cell_type": "code",
   "execution_count": 187,
   "metadata": {
    "id": "wc6UBTYPRVe1"
   },
   "outputs": [],
   "source": [
    "lr = LogisticRegression()\n",
    "lr.fit(X,y)\n",
    "prd = lr.predict_proba(x_test)"
   ]
  },
  {
   "cell_type": "code",
   "execution_count": 188,
   "metadata": {
    "colab": {
     "base_uri": "https://localhost:8080/"
    },
    "id": "qAQKo2hyRZxJ",
    "outputId": "814b9fbb-f11b-4c30-fe5a-30aa1aab338f"
   },
   "outputs": [
    {
     "name": "stdout",
     "output_type": "stream",
     "text": [
      "\n",
      "Confusion matrix\n",
      " [[3005  214]\n",
      " [ 355 3167]]\n",
      "              precision    recall  f1-score   support\n",
      "\n",
      "           0       0.89      0.93      0.91      3219\n",
      "           1       0.94      0.90      0.92      3522\n",
      "\n",
      "    accuracy                           0.92      6741\n",
      "   macro avg       0.92      0.92      0.92      6741\n",
      "weighted avg       0.92      0.92      0.92      6741\n",
      "\n"
     ]
    }
   ],
   "source": [
    "pred =  lr.predict(X)\n",
    "print('\\nConfusion matrix\\n',confusion_matrix(y,pred))\n",
    "print(classification_report(y,pred))"
   ]
  },
  {
   "cell_type": "code",
   "execution_count": 192,
   "metadata": {},
   "outputs": [
    {
     "data": {
      "text/plain": [
       "0.9155911585818128"
      ]
     },
     "execution_count": 192,
     "metadata": {},
     "output_type": "execute_result"
    }
   ],
   "source": [
    "lr.score(X,y)"
   ]
  },
  {
   "cell_type": "markdown",
   "metadata": {},
   "source": [
    "# AUC and ROC Curve"
   ]
  },
  {
   "cell_type": "code",
   "execution_count": 189,
   "metadata": {},
   "outputs": [
    {
     "name": "stdout",
     "output_type": "stream",
     "text": [
      "AUC Value -  0.9739869253027921\n"
     ]
    }
   ],
   "source": [
    "probs = lr.predict_proba(X)\n",
    "probs = probs[:,1]\n",
    "auc = roc_auc_score(y,probs)\n",
    "print(\"AUC Value - \",auc)"
   ]
  },
  {
   "cell_type": "code",
   "execution_count": 190,
   "metadata": {},
   "outputs": [
    {
     "data": {
      "text/plain": [
       "[<matplotlib.lines.Line2D at 0x16caaa73708>]"
      ]
     },
     "execution_count": 190,
     "metadata": {},
     "output_type": "execute_result"
    },
    {
     "data": {
      "image/png": "[encoded data removed]",
      "text/plain": [
       "<Figure size 432x288 with 1 Axes>"
      ]
     },
     "metadata": {
      "needs_background": "light"
     },
     "output_type": "display_data"
    }
   ],
   "source": [
    "train_fpr, train_tpr, train_threshold = roc_curve(y,probs)\n",
    "plt.plot([0,1],[0,1],Linestyle='--')\n",
    "plt.plot(train_fpr,train_tpr)"
   ]
  },
  {
   "cell_type": "code",
   "execution_count": 191,
   "metadata": {
    "id": "6MA9KfhLRblz"
   },
   "outputs": [],
   "source": [
    "#prediction\n",
    "y_pred = lr.predict(x_test)\n",
    "\n",
    "  \n",
    "data1 = {'urlid':newTestBoilerPlate['urlid'],'label':y_pred}\n",
    "    \n",
    "submission_df =pd.DataFrame(data1)\n",
    "    \n",
    "submission_df.to_csv('submit.csv',index=False)"
   ]
  },
  {
   "cell_type": "markdown",
   "metadata": {
    "id": "7ieXu3zQReuB"
   },
   "source": [
    "# Conclusion"
   ]
  },
  {
   "cell_type": "markdown",
   "metadata": {},
   "source": [
    "1. Model Accuracy is about 92%.\n",
    "2. Model is neither overfitter nor underfitted.\n",
    "3. The Precision for Evergreen(1) is 0.94 and for Ephemeral(0) is 0.89\n",
    "4. The Recall for Evergreen(1) is 0.90 and for Ephemeral(0) is 0.93\n",
    "5. The ROC and AUC curve is 97.3%"
   ]
  },
  {
   "cell_type": "code",
   "execution_count": null,
   "metadata": {},
   "outputs": [],
   "source": []
  }
 ],
 "metadata": {
  "colab": {
   "name": "Stumble Upon Problem.ipynb",
   "provenance": []
  },
  "kernelspec": {
   "display_name": "Python 3",
   "language": "python",
   "name": "python3"
  },
  "language_info": {
   "codemirror_mode": {
    "name": "ipython",
    "version": 3
   },
   "file_extension": ".py",
   "mimetype": "text/x-python",
   "name": "python",
   "nbconvert_exporter": "python",
   "pygments_lexer": "ipython3",
   "version": "3.7.6"
  }
 },
 "nbformat": 4,
 "nbformat_minor": 1
}
